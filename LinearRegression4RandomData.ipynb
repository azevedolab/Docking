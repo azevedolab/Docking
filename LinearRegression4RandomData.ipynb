{
  "nbformat": 4,
  "nbformat_minor": 0,
  "metadata": {
    "colab": {
      "provenance": []
    },
    "kernelspec": {
      "name": "python3",
      "display_name": "Python 3"
    },
    "language_info": {
      "name": "python"
    }
  },
  "cells": [
    {
      "cell_type": "markdown",
      "source": [
        "# **Linear Regression for Random Data**\n",
        "\n",
        "This Jupyter Notebook generates a random linear dataset with Gaussian noise added to the following equation: y = 5 + 2X<sub>1</sub>. It employs the [numpy.random.rand()](https://numpy.org/doc/stable/reference/random/generated/numpy.random.rand.html) function from the [NumPy](https://numpy.org/) library to generate random noise. Then, this code uses the [LinearRegression](https://scikit-learn.org/stable/modules/linear_model.html) class from the\n",
        " [Scikit-Learn](https://scikit-learn.org/stable/) library\n",
        "([Pedregosa et al., 2011](https://doi.org/10.48550/arXiv.1201.0490)) to\n",
        "build a regression model for this toy dataset. The [LinearRegression](https://scikit-learn.org/stable/modules/linear_model.html) class employs the [scipy.linalg.lstsq](https://docs.scipy.org/doc/scipy/reference/generated/scipy.linalg.lstsq.html) function from [Scipy](https://scipy.org/) linear algebra module ([scipy.linalg](https://docs.scipy.org/doc/scipy/reference/linalg.html)), which calculates the Moore-Penrose pseudoinverse ([Moore, 1920](https://scholar.google.com/scholar_lookup?title=On+reciprocal+of+the+general+algebraic+matrix&author=E.+H.+Moore&publication_year=1920&journal=Bull.+Amer.+Math.+Soc.&pages=394), [Penrose, 1954](https://doi.org/10.1017/s0305004100030401)) of the data matrix <strong>X</strong>. This function from [Scipy](https://scipy.org/) library computes the Moore-Penrose pseudoinverse matrix using the standard matrix factorization approach named Singular Value Decomposition (SVD) ([Pedregosa et al., 2011](https://doi.org/10.48550/arXiv.1201.0490)). The following code is similar to Jupyter Notebooks discussed by\n",
        "[Géron, 2023](https://www.isbns.net/isbn/9781098125974/).\n",
        "<br> </br>\n",
        "<img src=\"https://drive.usercontent.google.com/download?id=1t7CGbCH4V1NkzKbfNx114ks7us_X9gVr&export=view&authuser=0\" width=520 alt=\"Dice\">\n",
        "<br>This image shows a pair of dice as an analogy of random data. Source: Pixabay: https://pixabay.com/pt/photos/dados-toque-aleat%C3%B3ria-por-sorte-2777809/</br>\n",
        "<br> </br>\n",
        "**References**\n",
        "<br> </br>\n",
        "Géron, A. Hands-on Machine Learning with Scikit-Learn, Keras, and TensorFlow 3e: Concepts, Tools, and Techniques to Build Intelligent Systems, 3rd ed.; O’Reilly Media: Sebastopol, CA, 2023.\n",
        "[ISBN: 978-1-098-12597-4](https://www.isbns.net/isbn/9781098125974/)\n",
        "<br> </br>\n",
        "Moore EH. On the reciprocal of the general algebraic matrix. Bull Amer Math Soc., 1920; 26:394–395.\n",
        "[Google Scholar](https://scholar.google.com/scholar_lookup?title=On+reciprocal+of+the+general+algebraic+matrix&author=E.+H.+Moore&publication_year=1920&journal=Bull.+Amer.+Math.+Soc.&pages=394)\n",
        "<br> </br>\n",
        "Pedregosa F, Varoquaux G, Gramfort A, Michel V, Thirion B, Grisel O, Blondel M, Prettenhofer P, Weiss R, Dubourg V, Verplas J, Passos A, Cournapeau D, Brucher M, Perrot M, Duchesnay E. Scikitlearn: Machine Learning in Python. J Mach Learn Res., 2011; 12:2825–2830.\n",
        "[DOI: 10.48550/arXiv.1201.0490](https://doi.org/10.48550/arXiv.1201.0490)\n",
        "<br> </br>\n",
        "Penrose, R. A Generalized Inverse for Matrices. Math Proc Camb Philos Soc., 1955; 51(3):406–413.\n",
        "[DOI: 10.1017/s0305004100030401](https://doi.org/10.1017/s0305004100030401)\n",
        "<br> </br>\n",
        "It follows the code."
      ],
      "metadata": {
        "id": "Ow35NMeKjlR8"
      }
    },
    {
      "cell_type": "code",
      "execution_count": null,
      "metadata": {
        "id": "Fv6CVTbijE1v",
        "colab": {
          "base_uri": "https://localhost:8080/"
        },
        "outputId": "63d6c1b0-03a3-4462-9a19-3e406b121e3e"
      },
      "outputs": [
        {
          "output_type": "stream",
          "name": "stdout",
          "text": [
            "\n",
            "Generating and plotting random linear data......done!\n",
            "\n",
            "Generating regression model and plotting it......done!\n",
            "\n",
            "Theta vector:  [[5.50622115]\n",
            " [1.97442538]]\n",
            "MSE: 0.0864\n"
          ]
        }
      ],
      "source": [
        "#!/usr/bin/env python3\n",
        "#\n",
        "################################################################################\n",
        "# Dr. Walter F. de Azevedo, Jr.                                                #\n",
        "# [Scopus](https://www.scopus.com/authid/detail.uri?authorId=7006435557)       #\n",
        "# [GitHub](https://github.com/azevedolab)                                      #\n",
        "# July 20, 2024                                                                #\n",
        "################################################################################\n",
        "#\n",
        "################################################################################\n",
        "# Import section                                                               #\n",
        "################################################################################\n",
        "import numpy as np\n",
        "from sklearn.linear_model import LinearRegression\n",
        "import matplotlib.pyplot as plt\n",
        "from sklearn.metrics import mean_squared_error\n",
        "\n",
        "################################################################################\n",
        "# Randomly generated linear dataset                                            #\n",
        "################################################################################\n",
        "msg_out = \"\\nGenerating and plotting random linear data...\"\n",
        "print(msg_out,end=\"...\")\n",
        "np.random.seed(1123581321)          # Set up a random seed\n",
        "X = 4*np.random.rand(100,1)\n",
        "y = 5 + np.random.rand(100,1) + 2*X\n",
        "X_b = np.c_[np.ones((100,1)), X]    # Add x0 = 1 to each instance\n",
        "\n",
        "# Plotting randomly generated linear dataset\n",
        "plt.title(\"Randomly Generated Linear Dataset (y = 5 + 2*X$_1$)\")\n",
        "plt.plot(X,y, \"b.\")\n",
        "plt.xlabel(\"X$_{1}$\")\n",
        "plt.ylabel(\"y\")\n",
        "plt.axis([0,4,0,15])\n",
        "plt.grid()\n",
        "plt.savefig(\"linear_regression_random_data.pdf\",dpi=1500)\n",
        "plt.close()\n",
        "print(\"done!\")\n",
        "\n",
        "################################################################################\n",
        "# Generate a regression model                                                  #\n",
        "################################################################################\n",
        "msg_out = \"\\nGenerating regression model and plotting it...\"\n",
        "print(msg_out,end=\"...\")\n",
        "lin_reg = LinearRegression()\n",
        "lin_reg.fit(X,y)\n",
        "\n",
        "# Show theta vector\n",
        "theta_vector = np.array([[lin_reg.intercept_[0]],[lin_reg.coef_[0][0]]])\n",
        "\n",
        "# Plotting regression model and data\n",
        "X_in = np.array([[0],[4]])\n",
        "X_in_b = np.c_[np.ones((2,1)), X_in] # Add x0 = 1 to each instance\n",
        "y_predict = X_in_b.dot(theta_vector)\n",
        "plt.plot(X_in,y_predict, \"r-\")\n",
        "plt.legend([\"Predicted\"])\n",
        "plt.title(\"Regression Model for a Random Dataset (y = 5 + 2*X$_1$)\")\n",
        "plt.plot(X,y, \"b.\")\n",
        "plt.xlabel(\"X$_{1}$\")\n",
        "plt.ylabel(\"y\")\n",
        "plt.axis([0,4,0,15])\n",
        "plt.grid()\n",
        "plt.savefig(\"linear_regression_5_plus_2x.pdf\",dpi=1500)\n",
        "plt.close()\n",
        "print(\"done!\")\n",
        "\n",
        "# Show theta vector and calculate MSE\n",
        "print(\"\\nTheta vector: \",theta_vector)\n",
        "y_predict = X_b.dot(theta_vector)\n",
        "print(\"MSE: {:.4f}\".format(mean_squared_error(y, y_predict)))\n",
        "################################################################################"
      ]
    }
  ]
}